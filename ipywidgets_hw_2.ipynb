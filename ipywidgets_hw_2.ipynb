{
 "cells": [
  {
   "cell_type": "markdown",
   "metadata": {},
   "source": [
    "<img src=\"image/พิมล.jpg\" width=100 align=\"right\">"
   ]
  },
  {
   "cell_type": "markdown",
   "metadata": {},
   "source": [
    "<div align=\"right\">พิมล จันทรัตน์เจริญ<br>รหัส 1910531201002</div>"
   ]
  },
  {
   "cell_type": "code",
   "execution_count": 19,
   "metadata": {},
   "outputs": [],
   "source": [
    "# นำเข้า package ที่จำเป็นต้องใช้\n",
    "import datetime as dt\n",
    "import matplotlib.pyplot as plt\n",
    "from matplotlib import style\n",
    "import pandas as pd\n",
    "import pandas_datareader.data as web\n",
    "import pandas_datareader.data as web\n",
    "import ipywidgets as wd\n",
    "\n"
   ]
  },
  {
   "cell_type": "code",
   "execution_count": 20,
   "metadata": {},
   "outputs": [],
   "source": [
    "from ipywidgets import *"
   ]
  },
  {
   "cell_type": "code",
   "execution_count": 21,
   "metadata": {},
   "outputs": [],
   "source": [
    "# กำหนดวันเริ่มต้นดึงข้อมูลและวันสิ้นสุด\n",
    "style.use('ggplot')\n",
    "\n",
    "start = dt.datetime(2019, 1, 1)\n",
    "end = dt.datetime.now()"
   ]
  },
  {
   "cell_type": "code",
   "execution_count": 22,
   "metadata": {},
   "outputs": [],
   "source": [
    "#สร้างฟังก์ชัน plot graph\n",
    "def f(x):\n",
    "    df = web.DataReader(x, 'yahoo', start, end)\n",
    "    #print(df.head())\n",
    "    df.to_csv(f'{x}.csv')\n",
    "    df.plot()\n",
    "    plt.show"
   ]
  },
  {
   "cell_type": "code",
   "execution_count": 23,
   "metadata": {},
   "outputs": [],
   "source": [
    "#สร้างตัวแปร stocks and indicator\n",
    "stocks = ['TSLA','AAPL','GOOGL','FB','AMZN']"
   ]
  },
  {
   "cell_type": "code",
   "execution_count": 28,
   "metadata": {},
   "outputs": [],
   "source": [
    "#สร้าง drop down เลือก stock และ indicicator\n",
    "stocks_selector = wd.Dropdown(\n",
    "options=stocks,\n",
    "value=stocks[0],\n",
    "description='Stock')\n",
    "\n",
    "\n"
   ]
  },
  {
   "cell_type": "code",
   "execution_count": 29,
   "metadata": {},
   "outputs": [],
   "source": [
    "#สร้างกลุ่มของ selector\n",
    "main_selector_label = wd.Label('Main parameters', \n",
    "                              layout=wd.Layout(height='45px'))\n",
    "main_selector_box = wd.VBox(children=[main_selector_label,\n",
    "                                     stocks_selector])"
   ]
  },
  {
   "cell_type": "code",
   "execution_count": 30,
   "metadata": {},
   "outputs": [],
   "source": [
    "controls_dict = {'x':stocks_selector}\n",
    "ui = wd.HBox([main_selector_box])\n",
    "out = wd.interactive_output(f, controls_dict)"
   ]
  },
  {
   "cell_type": "code",
   "execution_count": 27,
   "metadata": {},
   "outputs": [
    {
     "data": {
      "application/vnd.jupyter.widget-view+json": {
       "model_id": "559768a8cef14f9c86ead5bf3fd7be51",
       "version_major": 2,
       "version_minor": 0
      },
      "text/plain": [
       "HBox(children=(VBox(children=(Label(value='Main parameters', layout=Layout(height='45px')), Dropdown(descripti…"
      ]
     },
     "metadata": {},
     "output_type": "display_data"
    },
    {
     "data": {
      "application/vnd.jupyter.widget-view+json": {
       "model_id": "48a4ef1537f24932b6eacfc16fcd9928",
       "version_major": 2,
       "version_minor": 0
      },
      "text/plain": [
       "Output()"
      ]
     },
     "metadata": {},
     "output_type": "display_data"
    }
   ],
   "source": [
    "display(ui,out)"
   ]
  },
  {
   "cell_type": "code",
   "execution_count": null,
   "metadata": {},
   "outputs": [],
   "source": []
  }
 ],
 "metadata": {
  "kernelspec": {
   "display_name": "Python 3",
   "language": "python",
   "name": "python3"
  },
  "language_info": {
   "codemirror_mode": {
    "name": "ipython",
    "version": 3
   },
   "file_extension": ".py",
   "mimetype": "text/x-python",
   "name": "python",
   "nbconvert_exporter": "python",
   "pygments_lexer": "ipython3",
   "version": "3.8.1"
  }
 },
 "nbformat": 4,
 "nbformat_minor": 2
}
